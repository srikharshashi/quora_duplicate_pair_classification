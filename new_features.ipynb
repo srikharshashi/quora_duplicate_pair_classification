{
 "cells": [
  {
   "cell_type": "code",
   "execution_count": 212,
   "metadata": {},
   "outputs": [],
   "source": [
    "import numpy as np\n",
    "import pandas as pd\n",
    "import matplotlib.pyplot as plt\n",
    "import seaborn as sns"
   ]
  },
  {
   "cell_type": "code",
   "execution_count": 108,
   "metadata": {},
   "outputs": [],
   "source": [
    "df=pd.read_csv(\"train.csv\")"
   ]
  },
  {
   "cell_type": "code",
   "execution_count": 141,
   "metadata": {},
   "outputs": [],
   "source": [
    "temp_df=df[['question1','question2','is_duplicate']]"
   ]
  },
  {
   "cell_type": "code",
   "execution_count": 142,
   "metadata": {},
   "outputs": [
    {
     "data": {
      "text/html": [
       "<div>\n",
       "<style scoped>\n",
       "    .dataframe tbody tr th:only-of-type {\n",
       "        vertical-align: middle;\n",
       "    }\n",
       "\n",
       "    .dataframe tbody tr th {\n",
       "        vertical-align: top;\n",
       "    }\n",
       "\n",
       "    .dataframe thead th {\n",
       "        text-align: right;\n",
       "    }\n",
       "</style>\n",
       "<table border=\"1\" class=\"dataframe\">\n",
       "  <thead>\n",
       "    <tr style=\"text-align: right;\">\n",
       "      <th></th>\n",
       "      <th>question1</th>\n",
       "      <th>question2</th>\n",
       "      <th>is_duplicate</th>\n",
       "    </tr>\n",
       "  </thead>\n",
       "  <tbody>\n",
       "    <tr>\n",
       "      <th>13688</th>\n",
       "      <td>What is best career option?</td>\n",
       "      <td>What are some good career options?</td>\n",
       "      <td>1</td>\n",
       "    </tr>\n",
       "    <tr>\n",
       "      <th>306444</th>\n",
       "      <td>If I am a Graduate in Project Management, What...</td>\n",
       "      <td>About lovers fight?</td>\n",
       "      <td>0</td>\n",
       "    </tr>\n",
       "    <tr>\n",
       "      <th>307269</th>\n",
       "      <td>What are some element examples that are solids...</td>\n",
       "      <td>What are the elements that are solid at room t...</td>\n",
       "      <td>1</td>\n",
       "    </tr>\n",
       "    <tr>\n",
       "      <th>159786</th>\n",
       "      <td>If a question doesn't need improvement, why do...</td>\n",
       "      <td>Why do all of my questions on Quora need impro...</td>\n",
       "      <td>1</td>\n",
       "    </tr>\n",
       "    <tr>\n",
       "      <th>184938</th>\n",
       "      <td>How can I speak English fluently and fast?</td>\n",
       "      <td>How can I speak English more fluently?</td>\n",
       "      <td>1</td>\n",
       "    </tr>\n",
       "  </tbody>\n",
       "</table>\n",
       "</div>"
      ],
      "text/plain": [
       "                                                question1  \\\n",
       "13688                         What is best career option?   \n",
       "306444  If I am a Graduate in Project Management, What...   \n",
       "307269  What are some element examples that are solids...   \n",
       "159786  If a question doesn't need improvement, why do...   \n",
       "184938         How can I speak English fluently and fast?   \n",
       "\n",
       "                                                question2  is_duplicate  \n",
       "13688                  What are some good career options?             1  \n",
       "306444                                About lovers fight?             0  \n",
       "307269  What are the elements that are solid at room t...             1  \n",
       "159786  Why do all of my questions on Quora need impro...             1  \n",
       "184938             How can I speak English more fluently?             1  "
      ]
     },
     "execution_count": 142,
     "metadata": {},
     "output_type": "execute_result"
    }
   ],
   "source": [
    "ques_df=temp_df.sample(90000)\n",
    "ques_df.head()"
   ]
  },
  {
   "cell_type": "code",
   "execution_count": 143,
   "metadata": {},
   "outputs": [],
   "source": [
    "ques_df.dropna(inplace=True)"
   ]
  },
  {
   "cell_type": "code",
   "execution_count": 144,
   "metadata": {},
   "outputs": [
    {
     "data": {
      "text/plain": [
       "question1       0\n",
       "question2       0\n",
       "is_duplicate    0\n",
       "dtype: int64"
      ]
     },
     "execution_count": 144,
     "metadata": {},
     "output_type": "execute_result"
    }
   ],
   "source": [
    "ques_df.isnull().sum()"
   ]
  },
  {
   "cell_type": "code",
   "execution_count": 146,
   "metadata": {},
   "outputs": [
    {
     "data": {
      "text/html": [
       "<div>\n",
       "<style scoped>\n",
       "    .dataframe tbody tr th:only-of-type {\n",
       "        vertical-align: middle;\n",
       "    }\n",
       "\n",
       "    .dataframe tbody tr th {\n",
       "        vertical-align: top;\n",
       "    }\n",
       "\n",
       "    .dataframe thead th {\n",
       "        text-align: right;\n",
       "    }\n",
       "</style>\n",
       "<table border=\"1\" class=\"dataframe\">\n",
       "  <thead>\n",
       "    <tr style=\"text-align: right;\">\n",
       "      <th></th>\n",
       "      <th>question1</th>\n",
       "      <th>question2</th>\n",
       "      <th>is_duplicate</th>\n",
       "    </tr>\n",
       "  </thead>\n",
       "  <tbody>\n",
       "    <tr>\n",
       "      <th>218667</th>\n",
       "      <td>Can I mix water with milk?</td>\n",
       "      <td>Why do some bakers instead of adding water to ...</td>\n",
       "      <td>0</td>\n",
       "    </tr>\n",
       "    <tr>\n",
       "      <th>134202</th>\n",
       "      <td>How can I add or remove a topic on Quora?</td>\n",
       "      <td>How do you delete a topic on Quora?</td>\n",
       "      <td>0</td>\n",
       "    </tr>\n",
       "    <tr>\n",
       "      <th>248131</th>\n",
       "      <td>What are some unexpected things first-time vis...</td>\n",
       "      <td>What are some unexpected things first-time vis...</td>\n",
       "      <td>0</td>\n",
       "    </tr>\n",
       "    <tr>\n",
       "      <th>128729</th>\n",
       "      <td>How do you control your emotions in public?</td>\n",
       "      <td>How do I control my emotion and sadness?</td>\n",
       "      <td>1</td>\n",
       "    </tr>\n",
       "    <tr>\n",
       "      <th>142293</th>\n",
       "      <td>What are the difference between 32 bit and 64 ...</td>\n",
       "      <td>What is the difference between a 32-bit and 64...</td>\n",
       "      <td>1</td>\n",
       "    </tr>\n",
       "    <tr>\n",
       "      <th>236984</th>\n",
       "      <td>What's the worst thing that ever happens to yo...</td>\n",
       "      <td>What is the worst thing ever happened to you f...</td>\n",
       "      <td>1</td>\n",
       "    </tr>\n",
       "    <tr>\n",
       "      <th>195291</th>\n",
       "      <td>How good looking are you in your own opinion o...</td>\n",
       "      <td>How much will you rate your physical appearanc...</td>\n",
       "      <td>1</td>\n",
       "    </tr>\n",
       "    <tr>\n",
       "      <th>355957</th>\n",
       "      <td>What is the time span to apply at Facebook again?</td>\n",
       "      <td>How can I unblock someone on Facebook? I've tr...</td>\n",
       "      <td>0</td>\n",
       "    </tr>\n",
       "    <tr>\n",
       "      <th>350611</th>\n",
       "      <td>Is flipping domain names still a good business...</td>\n",
       "      <td>Is bying and selling the domain names a good b...</td>\n",
       "      <td>1</td>\n",
       "    </tr>\n",
       "    <tr>\n",
       "      <th>146105</th>\n",
       "      <td>How do you factory reset a Toshiba Satellite Pro?</td>\n",
       "      <td>What are some ways of restoring a Toshiba lapt...</td>\n",
       "      <td>1</td>\n",
       "    </tr>\n",
       "  </tbody>\n",
       "</table>\n",
       "</div>"
      ],
      "text/plain": [
       "                                                question1  \\\n",
       "218667                         Can I mix water with milk?   \n",
       "134202          How can I add or remove a topic on Quora?   \n",
       "248131  What are some unexpected things first-time vis...   \n",
       "128729        How do you control your emotions in public?   \n",
       "142293  What are the difference between 32 bit and 64 ...   \n",
       "236984  What's the worst thing that ever happens to yo...   \n",
       "195291  How good looking are you in your own opinion o...   \n",
       "355957  What is the time span to apply at Facebook again?   \n",
       "350611  Is flipping domain names still a good business...   \n",
       "146105  How do you factory reset a Toshiba Satellite Pro?   \n",
       "\n",
       "                                                question2  is_duplicate  \n",
       "218667  Why do some bakers instead of adding water to ...             0  \n",
       "134202                How do you delete a topic on Quora?             0  \n",
       "248131  What are some unexpected things first-time vis...             0  \n",
       "128729           How do I control my emotion and sadness?             1  \n",
       "142293  What is the difference between a 32-bit and 64...             1  \n",
       "236984  What is the worst thing ever happened to you f...             1  \n",
       "195291  How much will you rate your physical appearanc...             1  \n",
       "355957  How can I unblock someone on Facebook? I've tr...             0  \n",
       "350611  Is bying and selling the domain names a good b...             1  \n",
       "146105  What are some ways of restoring a Toshiba lapt...             1  "
      ]
     },
     "execution_count": 146,
     "metadata": {},
     "output_type": "execute_result"
    }
   ],
   "source": [
    "ques_df.sample(10)"
   ]
  },
  {
   "cell_type": "markdown",
   "metadata": {},
   "source": [
    "#### Add 7 more features which better describe the data"
   ]
  },
  {
   "cell_type": "code",
   "execution_count": 113,
   "metadata": {},
   "outputs": [],
   "source": [
    "def count_common(ques1,ques2):\n",
    "    li1=ques1.split(\" \")\n",
    "    li2=ques2.split(\" \")\n",
    "    li1=set(li1)\n",
    "    li2=set(li2)\n",
    "    return len(li1 & li2)"
   ]
  },
  {
   "cell_type": "code",
   "execution_count": 114,
   "metadata": {},
   "outputs": [],
   "source": [
    "def get_total_words(ques1,ques2):\n",
    "    li1=ques1.split(\" \")\n",
    "    li2=ques2.split(\" \")\n",
    "    li1=set(li1)\n",
    "    li2=set(li2)\n",
    "    return len(li1) +len(li2)"
   ]
  },
  {
   "cell_type": "code",
   "execution_count": 115,
   "metadata": {},
   "outputs": [],
   "source": [
    "new_features=['q1_len','q2_len','q1_words','q2_words','words_common','words_total','words_share']"
   ]
  },
  {
   "cell_type": "code",
   "execution_count": 147,
   "metadata": {},
   "outputs": [],
   "source": [
    "ques_df['q1_len']=ques_df['question1'].apply(len)\n"
   ]
  },
  {
   "cell_type": "code",
   "execution_count": 148,
   "metadata": {},
   "outputs": [],
   "source": [
    "ques_df['q2_len']=ques_df['question2'].apply(len)"
   ]
  },
  {
   "cell_type": "code",
   "execution_count": 149,
   "metadata": {},
   "outputs": [],
   "source": [
    "ques_df['q1_words']=ques_df['question1'].apply(lambda x: len(x.split(\" \")))"
   ]
  },
  {
   "cell_type": "code",
   "execution_count": 157,
   "metadata": {},
   "outputs": [],
   "source": [
    "ques_df['q2_words']=ques_df['question2'].apply(lambda x: len(x.split(\" \")))"
   ]
  },
  {
   "cell_type": "code",
   "execution_count": 150,
   "metadata": {},
   "outputs": [],
   "source": [
    "ques_df['words_common']=ques_df.apply(lambda row:count_common(row['question1'],row['question2']),axis=1)"
   ]
  },
  {
   "cell_type": "code",
   "execution_count": 151,
   "metadata": {},
   "outputs": [],
   "source": [
    "ques_df['words_total']=ques_df.apply(lambda row:get_total_words(row['question1'],row['question2']),axis=1)"
   ]
  },
  {
   "cell_type": "code",
   "execution_count": 152,
   "metadata": {},
   "outputs": [],
   "source": [
    "ques_df['words_share']=ques_df['words_common']+ques_df['words_total']"
   ]
  },
  {
   "cell_type": "code",
   "execution_count": 158,
   "metadata": {},
   "outputs": [
    {
     "data": {
      "text/html": [
       "<div>\n",
       "<style scoped>\n",
       "    .dataframe tbody tr th:only-of-type {\n",
       "        vertical-align: middle;\n",
       "    }\n",
       "\n",
       "    .dataframe tbody tr th {\n",
       "        vertical-align: top;\n",
       "    }\n",
       "\n",
       "    .dataframe thead th {\n",
       "        text-align: right;\n",
       "    }\n",
       "</style>\n",
       "<table border=\"1\" class=\"dataframe\">\n",
       "  <thead>\n",
       "    <tr style=\"text-align: right;\">\n",
       "      <th></th>\n",
       "      <th>question1</th>\n",
       "      <th>question2</th>\n",
       "      <th>is_duplicate</th>\n",
       "      <th>q1_len</th>\n",
       "      <th>q2_len</th>\n",
       "      <th>q1_words</th>\n",
       "      <th>words_common</th>\n",
       "      <th>words_total</th>\n",
       "      <th>words_share</th>\n",
       "      <th>q2_words</th>\n",
       "    </tr>\n",
       "  </thead>\n",
       "  <tbody>\n",
       "    <tr>\n",
       "      <th>220123</th>\n",
       "      <td>How do I read quickly?</td>\n",
       "      <td>How can I read books more quickly with full co...</td>\n",
       "      <td>0</td>\n",
       "      <td>22</td>\n",
       "      <td>58</td>\n",
       "      <td>5</td>\n",
       "      <td>3</td>\n",
       "      <td>15</td>\n",
       "      <td>18</td>\n",
       "      <td>10</td>\n",
       "    </tr>\n",
       "    <tr>\n",
       "      <th>289242</th>\n",
       "      <td>What are servers?</td>\n",
       "      <td>What's a server made of?</td>\n",
       "      <td>0</td>\n",
       "      <td>17</td>\n",
       "      <td>24</td>\n",
       "      <td>3</td>\n",
       "      <td>0</td>\n",
       "      <td>8</td>\n",
       "      <td>8</td>\n",
       "      <td>5</td>\n",
       "    </tr>\n",
       "    <tr>\n",
       "      <th>277931</th>\n",
       "      <td>How do I become a social worker?</td>\n",
       "      <td>How do I become a social worker in Australia?</td>\n",
       "      <td>0</td>\n",
       "      <td>32</td>\n",
       "      <td>45</td>\n",
       "      <td>7</td>\n",
       "      <td>6</td>\n",
       "      <td>16</td>\n",
       "      <td>22</td>\n",
       "      <td>9</td>\n",
       "    </tr>\n",
       "    <tr>\n",
       "      <th>185168</th>\n",
       "      <td>Who require annexure M for passport?</td>\n",
       "      <td>How do I prepare for CAT 2016 in last one mont...</td>\n",
       "      <td>0</td>\n",
       "      <td>36</td>\n",
       "      <td>92</td>\n",
       "      <td>6</td>\n",
       "      <td>1</td>\n",
       "      <td>25</td>\n",
       "      <td>26</td>\n",
       "      <td>19</td>\n",
       "    </tr>\n",
       "    <tr>\n",
       "      <th>196947</th>\n",
       "      <td>What is new moon?</td>\n",
       "      <td>When is the new moon?</td>\n",
       "      <td>1</td>\n",
       "      <td>17</td>\n",
       "      <td>21</td>\n",
       "      <td>4</td>\n",
       "      <td>3</td>\n",
       "      <td>9</td>\n",
       "      <td>12</td>\n",
       "      <td>5</td>\n",
       "    </tr>\n",
       "    <tr>\n",
       "      <th>226491</th>\n",
       "      <td>Which Company provides photobooth service in S...</td>\n",
       "      <td>Who provides affordable photobooth service in ...</td>\n",
       "      <td>0</td>\n",
       "      <td>52</td>\n",
       "      <td>53</td>\n",
       "      <td>7</td>\n",
       "      <td>5</td>\n",
       "      <td>14</td>\n",
       "      <td>19</td>\n",
       "      <td>7</td>\n",
       "    </tr>\n",
       "    <tr>\n",
       "      <th>210150</th>\n",
       "      <td>What is the best Python learning book for begi...</td>\n",
       "      <td>What is the best book for learning Python easily?</td>\n",
       "      <td>1</td>\n",
       "      <td>52</td>\n",
       "      <td>49</td>\n",
       "      <td>9</td>\n",
       "      <td>8</td>\n",
       "      <td>18</td>\n",
       "      <td>26</td>\n",
       "      <td>9</td>\n",
       "    </tr>\n",
       "    <tr>\n",
       "      <th>158743</th>\n",
       "      <td>What does it feel like to sit for the South Ko...</td>\n",
       "      <td>Can I sit for the entrance exam after passing ...</td>\n",
       "      <td>0</td>\n",
       "      <td>73</td>\n",
       "      <td>92</td>\n",
       "      <td>14</td>\n",
       "      <td>4</td>\n",
       "      <td>31</td>\n",
       "      <td>35</td>\n",
       "      <td>17</td>\n",
       "    </tr>\n",
       "    <tr>\n",
       "      <th>102840</th>\n",
       "      <td>What are the differences between personal pron...</td>\n",
       "      <td>What are first person pronouns?</td>\n",
       "      <td>0</td>\n",
       "      <td>70</td>\n",
       "      <td>31</td>\n",
       "      <td>9</td>\n",
       "      <td>2</td>\n",
       "      <td>14</td>\n",
       "      <td>16</td>\n",
       "      <td>5</td>\n",
       "    </tr>\n",
       "    <tr>\n",
       "      <th>173760</th>\n",
       "      <td>What will they do to you if you jailbreak your...</td>\n",
       "      <td>How do you jailbreak an iPad?</td>\n",
       "      <td>0</td>\n",
       "      <td>52</td>\n",
       "      <td>29</td>\n",
       "      <td>11</td>\n",
       "      <td>4</td>\n",
       "      <td>16</td>\n",
       "      <td>20</td>\n",
       "      <td>6</td>\n",
       "    </tr>\n",
       "  </tbody>\n",
       "</table>\n",
       "</div>"
      ],
      "text/plain": [
       "                                                question1  \\\n",
       "220123                             How do I read quickly?   \n",
       "289242                                  What are servers?   \n",
       "277931                   How do I become a social worker?   \n",
       "185168               Who require annexure M for passport?   \n",
       "196947                                  What is new moon?   \n",
       "226491  Which Company provides photobooth service in S...   \n",
       "210150  What is the best Python learning book for begi...   \n",
       "158743  What does it feel like to sit for the South Ko...   \n",
       "102840  What are the differences between personal pron...   \n",
       "173760  What will they do to you if you jailbreak your...   \n",
       "\n",
       "                                                question2  is_duplicate  \\\n",
       "220123  How can I read books more quickly with full co...             0   \n",
       "289242                           What's a server made of?             0   \n",
       "277931      How do I become a social worker in Australia?             0   \n",
       "185168  How do I prepare for CAT 2016 in last one mont...             0   \n",
       "196947                              When is the new moon?             1   \n",
       "226491  Who provides affordable photobooth service in ...             0   \n",
       "210150  What is the best book for learning Python easily?             1   \n",
       "158743  Can I sit for the entrance exam after passing ...             0   \n",
       "102840                    What are first person pronouns?             0   \n",
       "173760                      How do you jailbreak an iPad?             0   \n",
       "\n",
       "        q1_len  q2_len  q1_words  words_common  words_total  words_share  \\\n",
       "220123      22      58         5             3           15           18   \n",
       "289242      17      24         3             0            8            8   \n",
       "277931      32      45         7             6           16           22   \n",
       "185168      36      92         6             1           25           26   \n",
       "196947      17      21         4             3            9           12   \n",
       "226491      52      53         7             5           14           19   \n",
       "210150      52      49         9             8           18           26   \n",
       "158743      73      92        14             4           31           35   \n",
       "102840      70      31         9             2           14           16   \n",
       "173760      52      29        11             4           16           20   \n",
       "\n",
       "        q2_words  \n",
       "220123        10  \n",
       "289242         5  \n",
       "277931         9  \n",
       "185168        19  \n",
       "196947         5  \n",
       "226491         7  \n",
       "210150         9  \n",
       "158743        17  \n",
       "102840         5  \n",
       "173760         6  "
      ]
     },
     "execution_count": 158,
     "metadata": {},
     "output_type": "execute_result"
    }
   ],
   "source": [
    "ques_df.sample(10)"
   ]
  },
  {
   "cell_type": "code",
   "execution_count": 159,
   "metadata": {},
   "outputs": [
    {
     "data": {
      "text/plain": [
       "(90000, 10)"
      ]
     },
     "execution_count": 159,
     "metadata": {},
     "output_type": "execute_result"
    }
   ],
   "source": [
    "ques_df.shape\n"
   ]
  },
  {
   "cell_type": "code",
   "execution_count": 160,
   "metadata": {},
   "outputs": [
    {
     "name": "stdout",
     "output_type": "stream",
     "text": [
      "<class 'pandas.core.frame.DataFrame'>\n",
      "Index: 90000 entries, 13688 to 184086\n",
      "Data columns (total 10 columns):\n",
      " #   Column        Non-Null Count  Dtype \n",
      "---  ------        --------------  ----- \n",
      " 0   question1     90000 non-null  object\n",
      " 1   question2     90000 non-null  object\n",
      " 2   is_duplicate  90000 non-null  int64 \n",
      " 3   q1_len        90000 non-null  int64 \n",
      " 4   q2_len        90000 non-null  int64 \n",
      " 5   q1_words      90000 non-null  int64 \n",
      " 6   words_common  90000 non-null  int64 \n",
      " 7   words_total   90000 non-null  int64 \n",
      " 8   words_share   90000 non-null  int64 \n",
      " 9   q2_words      90000 non-null  int64 \n",
      "dtypes: int64(8), object(2)\n",
      "memory usage: 7.6+ MB\n"
     ]
    }
   ],
   "source": [
    "ques_df.info()"
   ]
  },
  {
   "cell_type": "code",
   "execution_count": 161,
   "metadata": {},
   "outputs": [],
   "source": [
    "ques_df[\"question1\"]=ques_df[\"question1\"].str.lower()"
   ]
  },
  {
   "cell_type": "code",
   "execution_count": 162,
   "metadata": {},
   "outputs": [],
   "source": [
    "ques_df[\"question2\"]=ques_df[\"question2\"].str.lower()"
   ]
  },
  {
   "cell_type": "code",
   "execution_count": 127,
   "metadata": {},
   "outputs": [],
   "source": [
    "for q in ques_df[\"question1\"]:\n",
    "    if not isinstance(q,str):\n",
    "        print(q)"
   ]
  },
  {
   "cell_type": "code",
   "execution_count": 184,
   "metadata": {},
   "outputs": [
    {
     "data": {
      "text/html": [
       "<div>\n",
       "<style scoped>\n",
       "    .dataframe tbody tr th:only-of-type {\n",
       "        vertical-align: middle;\n",
       "    }\n",
       "\n",
       "    .dataframe tbody tr th {\n",
       "        vertical-align: top;\n",
       "    }\n",
       "\n",
       "    .dataframe thead th {\n",
       "        text-align: right;\n",
       "    }\n",
       "</style>\n",
       "<table border=\"1\" class=\"dataframe\">\n",
       "  <thead>\n",
       "    <tr style=\"text-align: right;\">\n",
       "      <th></th>\n",
       "      <th>question1</th>\n",
       "      <th>question2</th>\n",
       "      <th>is_duplicate</th>\n",
       "      <th>q1_len</th>\n",
       "      <th>q2_len</th>\n",
       "      <th>q1_words</th>\n",
       "      <th>words_common</th>\n",
       "      <th>words_total</th>\n",
       "      <th>words_share</th>\n",
       "      <th>q2_words</th>\n",
       "    </tr>\n",
       "  </thead>\n",
       "  <tbody>\n",
       "    <tr>\n",
       "      <th>354863</th>\n",
       "      <td>what can be done with expired toothpaste?</td>\n",
       "      <td>does toothpaste expire?</td>\n",
       "      <td>0</td>\n",
       "      <td>41</td>\n",
       "      <td>23</td>\n",
       "      <td>7</td>\n",
       "      <td>0</td>\n",
       "      <td>10</td>\n",
       "      <td>10</td>\n",
       "      <td>3</td>\n",
       "    </tr>\n",
       "    <tr>\n",
       "      <th>72786</th>\n",
       "      <td>what is meant by rheostatic braking?</td>\n",
       "      <td>what is meant by rheostatic braking??</td>\n",
       "      <td>1</td>\n",
       "      <td>36</td>\n",
       "      <td>37</td>\n",
       "      <td>6</td>\n",
       "      <td>5</td>\n",
       "      <td>12</td>\n",
       "      <td>17</td>\n",
       "      <td>6</td>\n",
       "    </tr>\n",
       "    <tr>\n",
       "      <th>22026</th>\n",
       "      <td>two objects in space will fall toward each oth...</td>\n",
       "      <td>if the universe is 16 billion years old, what ...</td>\n",
       "      <td>0</td>\n",
       "      <td>150</td>\n",
       "      <td>76</td>\n",
       "      <td>25</td>\n",
       "      <td>3</td>\n",
       "      <td>38</td>\n",
       "      <td>41</td>\n",
       "      <td>15</td>\n",
       "    </tr>\n",
       "  </tbody>\n",
       "</table>\n",
       "</div>"
      ],
      "text/plain": [
       "                                                question1  \\\n",
       "354863          what can be done with expired toothpaste?   \n",
       "72786                what is meant by rheostatic braking?   \n",
       "22026   two objects in space will fall toward each oth...   \n",
       "\n",
       "                                                question2  is_duplicate  \\\n",
       "354863                            does toothpaste expire?             0   \n",
       "72786               what is meant by rheostatic braking??             1   \n",
       "22026   if the universe is 16 billion years old, what ...             0   \n",
       "\n",
       "        q1_len  q2_len  q1_words  words_common  words_total  words_share  \\\n",
       "354863      41      23         7             0           10           10   \n",
       "72786       36      37         6             5           12           17   \n",
       "22026      150      76        25             3           38           41   \n",
       "\n",
       "        q2_words  \n",
       "354863         3  \n",
       "72786          6  \n",
       "22026         15  "
      ]
     },
     "execution_count": 184,
     "metadata": {},
     "output_type": "execute_result"
    }
   ],
   "source": [
    "ques_df.sample(3)"
   ]
  },
  {
   "cell_type": "code",
   "execution_count": 185,
   "metadata": {},
   "outputs": [
    {
     "data": {
      "text/html": [
       "<div>\n",
       "<style scoped>\n",
       "    .dataframe tbody tr th:only-of-type {\n",
       "        vertical-align: middle;\n",
       "    }\n",
       "\n",
       "    .dataframe tbody tr th {\n",
       "        vertical-align: top;\n",
       "    }\n",
       "\n",
       "    .dataframe thead th {\n",
       "        text-align: right;\n",
       "    }\n",
       "</style>\n",
       "<table border=\"1\" class=\"dataframe\">\n",
       "  <thead>\n",
       "    <tr style=\"text-align: right;\">\n",
       "      <th></th>\n",
       "      <th>is_duplicate</th>\n",
       "      <th>q1_len</th>\n",
       "      <th>q2_len</th>\n",
       "      <th>q1_words</th>\n",
       "      <th>words_common</th>\n",
       "      <th>words_total</th>\n",
       "      <th>words_share</th>\n",
       "      <th>q2_words</th>\n",
       "    </tr>\n",
       "  </thead>\n",
       "  <tbody>\n",
       "    <tr>\n",
       "      <th>1229</th>\n",
       "      <td>0</td>\n",
       "      <td>96</td>\n",
       "      <td>52</td>\n",
       "      <td>21</td>\n",
       "      <td>1</td>\n",
       "      <td>30</td>\n",
       "      <td>31</td>\n",
       "      <td>10</td>\n",
       "    </tr>\n",
       "    <tr>\n",
       "      <th>152650</th>\n",
       "      <td>1</td>\n",
       "      <td>63</td>\n",
       "      <td>69</td>\n",
       "      <td>12</td>\n",
       "      <td>8</td>\n",
       "      <td>26</td>\n",
       "      <td>34</td>\n",
       "      <td>15</td>\n",
       "    </tr>\n",
       "    <tr>\n",
       "      <th>47059</th>\n",
       "      <td>1</td>\n",
       "      <td>58</td>\n",
       "      <td>54</td>\n",
       "      <td>11</td>\n",
       "      <td>5</td>\n",
       "      <td>19</td>\n",
       "      <td>24</td>\n",
       "      <td>9</td>\n",
       "    </tr>\n",
       "  </tbody>\n",
       "</table>\n",
       "</div>"
      ],
      "text/plain": [
       "        is_duplicate  q1_len  q2_len  q1_words  words_common  words_total  \\\n",
       "1229               0      96      52        21             1           30   \n",
       "152650             1      63      69        12             8           26   \n",
       "47059              1      58      54        11             5           19   \n",
       "\n",
       "        words_share  q2_words  \n",
       "1229             31        10  \n",
       "152650           34        15  \n",
       "47059            24         9  "
      ]
     },
     "execution_count": 185,
     "metadata": {},
     "output_type": "execute_result"
    }
   ],
   "source": [
    "final_df=ques_df.drop(columns=[\"question1\",\"question2\"])\n",
    "final_df.sample(3)"
   ]
  },
  {
   "cell_type": "code",
   "execution_count": 186,
   "metadata": {},
   "outputs": [],
   "source": [
    "from sklearn.feature_extraction.text import CountVectorizer\n",
    "# merge texts\n",
    "questions = list(ques_df['question1']) + list(ques_df['question2'])\n",
    "\n",
    "cv = CountVectorizer(max_features=3000)\n",
    "q1_arr, q2_arr = np.vsplit(cv.fit_transform(questions).toarray(),2)"
   ]
  },
  {
   "cell_type": "code",
   "execution_count": 187,
   "metadata": {},
   "outputs": [
    {
     "data": {
      "text/plain": [
       "(90000, 6000)"
      ]
     },
     "execution_count": 187,
     "metadata": {},
     "output_type": "execute_result"
    }
   ],
   "source": [
    "temp_df1 = pd.DataFrame(q1_arr, index= ques_df.index)\n",
    "temp_df2 = pd.DataFrame(q2_arr, index= ques_df.index)\n",
    "temp_df = pd.concat([temp_df1, temp_df2], axis=1)\n",
    "temp_df.shape"
   ]
  },
  {
   "cell_type": "code",
   "execution_count": 188,
   "metadata": {},
   "outputs": [
    {
     "name": "stdout",
     "output_type": "stream",
     "text": [
      "(90000, 6008)\n"
     ]
    },
    {
     "data": {
      "text/html": [
       "<div>\n",
       "<style scoped>\n",
       "    .dataframe tbody tr th:only-of-type {\n",
       "        vertical-align: middle;\n",
       "    }\n",
       "\n",
       "    .dataframe tbody tr th {\n",
       "        vertical-align: top;\n",
       "    }\n",
       "\n",
       "    .dataframe thead th {\n",
       "        text-align: right;\n",
       "    }\n",
       "</style>\n",
       "<table border=\"1\" class=\"dataframe\">\n",
       "  <thead>\n",
       "    <tr style=\"text-align: right;\">\n",
       "      <th></th>\n",
       "      <th>is_duplicate</th>\n",
       "      <th>q1_len</th>\n",
       "      <th>q2_len</th>\n",
       "      <th>q1_words</th>\n",
       "      <th>words_common</th>\n",
       "      <th>words_total</th>\n",
       "      <th>words_share</th>\n",
       "      <th>q2_words</th>\n",
       "      <th>0</th>\n",
       "      <th>1</th>\n",
       "      <th>...</th>\n",
       "      <th>2990</th>\n",
       "      <th>2991</th>\n",
       "      <th>2992</th>\n",
       "      <th>2993</th>\n",
       "      <th>2994</th>\n",
       "      <th>2995</th>\n",
       "      <th>2996</th>\n",
       "      <th>2997</th>\n",
       "      <th>2998</th>\n",
       "      <th>2999</th>\n",
       "    </tr>\n",
       "  </thead>\n",
       "  <tbody>\n",
       "    <tr>\n",
       "      <th>13688</th>\n",
       "      <td>1</td>\n",
       "      <td>27</td>\n",
       "      <td>34</td>\n",
       "      <td>5</td>\n",
       "      <td>2</td>\n",
       "      <td>11</td>\n",
       "      <td>13</td>\n",
       "      <td>6</td>\n",
       "      <td>0</td>\n",
       "      <td>0</td>\n",
       "      <td>...</td>\n",
       "      <td>0</td>\n",
       "      <td>0</td>\n",
       "      <td>0</td>\n",
       "      <td>0</td>\n",
       "      <td>0</td>\n",
       "      <td>0</td>\n",
       "      <td>0</td>\n",
       "      <td>0</td>\n",
       "      <td>0</td>\n",
       "      <td>0</td>\n",
       "    </tr>\n",
       "    <tr>\n",
       "      <th>306444</th>\n",
       "      <td>0</td>\n",
       "      <td>78</td>\n",
       "      <td>19</td>\n",
       "      <td>14</td>\n",
       "      <td>0</td>\n",
       "      <td>16</td>\n",
       "      <td>16</td>\n",
       "      <td>3</td>\n",
       "      <td>0</td>\n",
       "      <td>0</td>\n",
       "      <td>...</td>\n",
       "      <td>0</td>\n",
       "      <td>0</td>\n",
       "      <td>0</td>\n",
       "      <td>0</td>\n",
       "      <td>0</td>\n",
       "      <td>0</td>\n",
       "      <td>0</td>\n",
       "      <td>0</td>\n",
       "      <td>0</td>\n",
       "      <td>0</td>\n",
       "    </tr>\n",
       "    <tr>\n",
       "      <th>307269</th>\n",
       "      <td>1</td>\n",
       "      <td>67</td>\n",
       "      <td>57</td>\n",
       "      <td>11</td>\n",
       "      <td>6</td>\n",
       "      <td>19</td>\n",
       "      <td>25</td>\n",
       "      <td>10</td>\n",
       "      <td>0</td>\n",
       "      <td>0</td>\n",
       "      <td>...</td>\n",
       "      <td>0</td>\n",
       "      <td>0</td>\n",
       "      <td>0</td>\n",
       "      <td>0</td>\n",
       "      <td>0</td>\n",
       "      <td>0</td>\n",
       "      <td>0</td>\n",
       "      <td>0</td>\n",
       "      <td>0</td>\n",
       "      <td>0</td>\n",
       "    </tr>\n",
       "    <tr>\n",
       "      <th>159786</th>\n",
       "      <td>1</td>\n",
       "      <td>80</td>\n",
       "      <td>53</td>\n",
       "      <td>13</td>\n",
       "      <td>2</td>\n",
       "      <td>23</td>\n",
       "      <td>25</td>\n",
       "      <td>10</td>\n",
       "      <td>0</td>\n",
       "      <td>0</td>\n",
       "      <td>...</td>\n",
       "      <td>0</td>\n",
       "      <td>0</td>\n",
       "      <td>0</td>\n",
       "      <td>0</td>\n",
       "      <td>0</td>\n",
       "      <td>0</td>\n",
       "      <td>0</td>\n",
       "      <td>0</td>\n",
       "      <td>0</td>\n",
       "      <td>0</td>\n",
       "    </tr>\n",
       "    <tr>\n",
       "      <th>184938</th>\n",
       "      <td>1</td>\n",
       "      <td>42</td>\n",
       "      <td>38</td>\n",
       "      <td>8</td>\n",
       "      <td>5</td>\n",
       "      <td>15</td>\n",
       "      <td>20</td>\n",
       "      <td>7</td>\n",
       "      <td>0</td>\n",
       "      <td>0</td>\n",
       "      <td>...</td>\n",
       "      <td>0</td>\n",
       "      <td>0</td>\n",
       "      <td>0</td>\n",
       "      <td>0</td>\n",
       "      <td>0</td>\n",
       "      <td>0</td>\n",
       "      <td>0</td>\n",
       "      <td>0</td>\n",
       "      <td>0</td>\n",
       "      <td>0</td>\n",
       "    </tr>\n",
       "  </tbody>\n",
       "</table>\n",
       "<p>5 rows × 6008 columns</p>\n",
       "</div>"
      ],
      "text/plain": [
       "        is_duplicate  q1_len  q2_len  q1_words  words_common  words_total  \\\n",
       "13688              1      27      34         5             2           11   \n",
       "306444             0      78      19        14             0           16   \n",
       "307269             1      67      57        11             6           19   \n",
       "159786             1      80      53        13             2           23   \n",
       "184938             1      42      38         8             5           15   \n",
       "\n",
       "        words_share  q2_words  0  1  ...  2990  2991  2992  2993  2994  2995  \\\n",
       "13688            13         6  0  0  ...     0     0     0     0     0     0   \n",
       "306444           16         3  0  0  ...     0     0     0     0     0     0   \n",
       "307269           25        10  0  0  ...     0     0     0     0     0     0   \n",
       "159786           25        10  0  0  ...     0     0     0     0     0     0   \n",
       "184938           20         7  0  0  ...     0     0     0     0     0     0   \n",
       "\n",
       "        2996  2997  2998  2999  \n",
       "13688      0     0     0     0  \n",
       "306444     0     0     0     0  \n",
       "307269     0     0     0     0  \n",
       "159786     0     0     0     0  \n",
       "184938     0     0     0     0  \n",
       "\n",
       "[5 rows x 6008 columns]"
      ]
     },
     "execution_count": 188,
     "metadata": {},
     "output_type": "execute_result"
    }
   ],
   "source": [
    "final_df = pd.concat([final_df, temp_df], axis=1)\n",
    "print(final_df.shape)\n",
    "final_df.head()\n"
   ]
  },
  {
   "cell_type": "code",
   "execution_count": 192,
   "metadata": {},
   "outputs": [],
   "source": [
    "final_df.columns=final_df.columns.astype(str)"
   ]
  },
  {
   "cell_type": "code",
   "execution_count": 193,
   "metadata": {},
   "outputs": [],
   "source": [
    "from sklearn.model_selection import train_test_split\n",
    "X_train,X_test,y_train,y_test=train_test_split(final_df.iloc[:,1:],final_df.iloc[:,0],test_size=0.2)"
   ]
  },
  {
   "cell_type": "code",
   "execution_count": 194,
   "metadata": {},
   "outputs": [
    {
     "data": {
      "text/plain": [
       "0.7783333333333333"
      ]
     },
     "execution_count": 194,
     "metadata": {},
     "output_type": "execute_result"
    }
   ],
   "source": [
    "from sklearn.ensemble import RandomForestClassifier\n",
    "from sklearn.metrics import accuracy_score\n",
    "rf=RandomForestClassifier()\n",
    "rf.fit(X_train,y_train)\n",
    "y_pred=rf.predict(X_test)\n",
    "accuracy_score(y_test,y_pred)"
   ]
  },
  {
   "cell_type": "code",
   "execution_count": 195,
   "metadata": {},
   "outputs": [
    {
     "data": {
      "text/plain": [
       "0.7783333333333333"
      ]
     },
     "execution_count": 195,
     "metadata": {},
     "output_type": "execute_result"
    }
   ],
   "source": [
    "from xgboost import XGBClassifier\n",
    "xgb=XGBClassifier()\n",
    "xgb.fit(np.array(X_train),y_train)\n",
    "y_pred2=xgb.predict(X_test)\n",
    "accuracy_score(y_test,y_pred)"
   ]
  },
  {
   "cell_type": "markdown",
   "metadata": {},
   "source": [
    "### Feature Analysis"
   ]
  },
  {
   "cell_type": "code",
   "execution_count": 198,
   "metadata": {},
   "outputs": [
    {
     "name": "stdout",
     "output_type": "stream",
     "text": [
      "minimum characters 1\n",
      "maximum characters 370\n",
      "average num of characters 59\n"
     ]
    },
    {
     "data": {
      "image/png": "[encoded data removed]",
      "text/plain": [
       "<Figure size 500x500 with 1 Axes>"
      ]
     },
     "metadata": {},
     "output_type": "display_data"
    }
   ],
   "source": [
    "sns.displot(ques_df['q1_len'])\n",
    "print('minimum characters',ques_df['q1_len'].min())\n",
    "print('maximum characters',ques_df['q1_len'].max())\n",
    "print('average num of characters',int(ques_df['q1_len'].mean()))\n"
   ]
  },
  {
   "cell_type": "code",
   "execution_count": 199,
   "metadata": {},
   "outputs": [
    {
     "name": "stdout",
     "output_type": "stream",
     "text": [
      "minimum characters 1\n",
      "maximum characters 1169\n",
      "average num of characters 60\n"
     ]
    },
    {
     "data": {
      "image/png": "[encoded data removed]",
      "text/plain": [
       "<Figure size 500x500 with 1 Axes>"
      ]
     },
     "metadata": {},
     "output_type": "display_data"
    }
   ],
   "source": [
    "sns.displot(ques_df['q2_len'])\n",
    "print('minimum characters',ques_df['q2_len'].min())\n",
    "print('maximum characters',ques_df['q2_len'].max())\n",
    "print('average num of characters',int(ques_df['q2_len'].mean()))\n"
   ]
  },
  {
   "cell_type": "code",
   "execution_count": 208,
   "metadata": {},
   "outputs": [
    {
     "name": "stdout",
     "output_type": "stream",
     "text": [
      "minimum words 1\n",
      "maximum words 71\n",
      "average num of words 10\n"
     ]
    },
    {
     "data": {
      "image/png": "[encoded data removed]",
      "text/plain": [
       "<Figure size 500x500 with 1 Axes>"
      ]
     },
     "metadata": {},
     "output_type": "display_data"
    }
   ],
   "source": [
    "sns.displot(ques_df['q1_words'])\n",
    "print('minimum words',ques_df['q1_words'].min())\n",
    "print('maximum words',ques_df['q1_words'].max())\n",
    "print('average num of words',int(ques_df['q1_words'].mean()))\n"
   ]
  },
  {
   "cell_type": "code",
   "execution_count": 210,
   "metadata": {},
   "outputs": [
    {
     "name": "stdout",
     "output_type": "stream",
     "text": [
      "minimum words 1\n",
      "maximum words 237\n",
      "average num of words 11\n"
     ]
    },
    {
     "data": {
      "image/png": "[encoded data removed]",
      "text/plain": [
       "<Figure size 500x500 with 1 Axes>"
      ]
     },
     "metadata": {},
     "output_type": "display_data"
    }
   ],
   "source": [
    "sns.displot(ques_df['q2_words'])\n",
    "print('minimum words',ques_df['q2_words'].min())\n",
    "print('maximum words',ques_df['q2_words'].max())\n",
    "print('average num of words',int(ques_df['q2_words'].mean()))\n"
   ]
  },
  {
   "cell_type": "code",
   "execution_count": 213,
   "metadata": {},
   "outputs": [
    {
     "name": "stderr",
     "output_type": "stream",
     "text": [
      "C:\\Users\\dasoj\\AppData\\Local\\Temp\\ipykernel_12908\\493818816.py:1: UserWarning: \n",
      "\n",
      "`distplot` is a deprecated function and will be removed in seaborn v0.14.0.\n",
      "\n",
      "Please adapt your code to use either `displot` (a figure-level function with\n",
      "similar flexibility) or `histplot` (an axes-level function for histograms).\n",
      "\n",
      "For a guide to updating your code to use the new functions, please see\n",
      "https://gist.github.com/mwaskom/de44147ed2974457ad6372750bbe5751\n",
      "\n",
      "  sns.distplot(ques_df[ques_df['is_duplicate'] == 0]['words_common'],label='non duplicate')\n",
      "C:\\Users\\dasoj\\AppData\\Local\\Temp\\ipykernel_12908\\493818816.py:2: UserWarning: \n",
      "\n",
      "`distplot` is a deprecated function and will be removed in seaborn v0.14.0.\n",
      "\n",
      "Please adapt your code to use either `displot` (a figure-level function with\n",
      "similar flexibility) or `histplot` (an axes-level function for histograms).\n",
      "\n",
      "For a guide to updating your code to use the new functions, please see\n",
      "https://gist.github.com/mwaskom/de44147ed2974457ad6372750bbe5751\n",
      "\n",
      "  sns.distplot(ques_df[ques_df['is_duplicate'] == 1]['words_common'],label='duplicate')\n"
     ]
    },
    {
     "data": {
      "image/png": "[encoded data removed]",
      "text/plain": [
       "<Figure size 640x480 with 1 Axes>"
      ]
     },
     "metadata": {},
     "output_type": "display_data"
    }
   ],
   "source": [
    "sns.distplot(ques_df[ques_df['is_duplicate'] == 0]['words_common'],label='non duplicate')\n",
    "sns.distplot(ques_df[ques_df['is_duplicate'] == 1]['words_common'],label='duplicate')\n",
    "plt.legend()\n",
    "plt.show()\n"
   ]
  },
  {
   "cell_type": "code",
   "execution_count": 214,
   "metadata": {},
   "outputs": [
    {
     "name": "stderr",
     "output_type": "stream",
     "text": [
      "C:\\Users\\dasoj\\AppData\\Local\\Temp\\ipykernel_12908\\3214409666.py:1: UserWarning: \n",
      "\n",
      "`distplot` is a deprecated function and will be removed in seaborn v0.14.0.\n",
      "\n",
      "Please adapt your code to use either `displot` (a figure-level function with\n",
      "similar flexibility) or `histplot` (an axes-level function for histograms).\n",
      "\n",
      "For a guide to updating your code to use the new functions, please see\n",
      "https://gist.github.com/mwaskom/de44147ed2974457ad6372750bbe5751\n",
      "\n",
      "  sns.distplot(ques_df[ques_df['is_duplicate'] == 0]['words_total'],label='non duplicate')\n",
      "C:\\Users\\dasoj\\AppData\\Local\\Temp\\ipykernel_12908\\3214409666.py:2: UserWarning: \n",
      "\n",
      "`distplot` is a deprecated function and will be removed in seaborn v0.14.0.\n",
      "\n",
      "Please adapt your code to use either `displot` (a figure-level function with\n",
      "similar flexibility) or `histplot` (an axes-level function for histograms).\n",
      "\n",
      "For a guide to updating your code to use the new functions, please see\n",
      "https://gist.github.com/mwaskom/de44147ed2974457ad6372750bbe5751\n",
      "\n",
      "  sns.distplot(ques_df[ques_df['is_duplicate'] == 1]['words_total'],label='duplicate')\n"
     ]
    },
    {
     "data": {
      "image/png": "[encoded data removed]",
      "text/plain": [
       "<Figure size 640x480 with 1 Axes>"
      ]
     },
     "metadata": {},
     "output_type": "display_data"
    }
   ],
   "source": [
    "sns.distplot(ques_df[ques_df['is_duplicate'] == 0]['words_total'],label='non duplicate')\n",
    "sns.distplot(ques_df[ques_df['is_duplicate'] == 1]['words_total'],label='duplicate')\n",
    "plt.legend()\n",
    "plt.show()\n"
   ]
  },
  {
   "cell_type": "code",
   "execution_count": 215,
   "metadata": {},
   "outputs": [
    {
     "name": "stderr",
     "output_type": "stream",
     "text": [
      "C:\\Users\\dasoj\\AppData\\Local\\Temp\\ipykernel_12908\\3732101880.py:1: UserWarning: \n",
      "\n",
      "`distplot` is a deprecated function and will be removed in seaborn v0.14.0.\n",
      "\n",
      "Please adapt your code to use either `displot` (a figure-level function with\n",
      "similar flexibility) or `histplot` (an axes-level function for histograms).\n",
      "\n",
      "For a guide to updating your code to use the new functions, please see\n",
      "https://gist.github.com/mwaskom/de44147ed2974457ad6372750bbe5751\n",
      "\n",
      "  sns.distplot(ques_df[ques_df['is_duplicate'] == 0]['words_share'],label='non duplicate')\n",
      "C:\\Users\\dasoj\\AppData\\Local\\Temp\\ipykernel_12908\\3732101880.py:2: UserWarning: \n",
      "\n",
      "`distplot` is a deprecated function and will be removed in seaborn v0.14.0.\n",
      "\n",
      "Please adapt your code to use either `displot` (a figure-level function with\n",
      "similar flexibility) or `histplot` (an axes-level function for histograms).\n",
      "\n",
      "For a guide to updating your code to use the new functions, please see\n",
      "https://gist.github.com/mwaskom/de44147ed2974457ad6372750bbe5751\n",
      "\n",
      "  sns.distplot(ques_df[ques_df['is_duplicate'] == 1]['words_share'],label='duplicate')\n"
     ]
    },
    {
     "data": {
      "image/png": "[encoded data removed]",
      "text/plain": [
       "<Figure size 640x480 with 1 Axes>"
      ]
     },
     "metadata": {},
     "output_type": "display_data"
    }
   ],
   "source": [
    "sns.distplot(ques_df[ques_df['is_duplicate'] == 0]['words_share'],label='non duplicate')\n",
    "sns.distplot(ques_df[ques_df['is_duplicate'] == 1]['words_share'],label='duplicate')\n",
    "plt.legend()\n",
    "plt.show()\n"
   ]
  },
  {
   "cell_type": "markdown",
   "metadata": {},
   "source": [
    "### ended up with 78% accuracy after basic eature engineering"
   ]
  }
 ],
 "metadata": {
  "kernelspec": {
   "display_name": "hackz",
   "language": "python",
   "name": "python3"
  },
  "language_info": {
   "codemirror_mode": {
    "name": "ipython",
    "version": 3
   },
   "file_extension": ".py",
   "mimetype": "text/x-python",
   "name": "python",
   "nbconvert_exporter": "python",
   "pygments_lexer": "ipython3",
   "version": "3.11.5"
  }
 },
 "nbformat": 4,
 "nbformat_minor": 2
}
