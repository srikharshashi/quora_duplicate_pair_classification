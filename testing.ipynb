{
 "cells": [
  {
   "cell_type": "code",
   "execution_count": 1,
   "metadata": {},
   "outputs": [],
   "source": [
    "import pandas as pd\n"
   ]
  },
  {
   "cell_type": "code",
   "execution_count": 2,
   "metadata": {},
   "outputs": [
    {
     "name": "stdout",
     "output_type": "stream",
     "text": [
      "DataFrame before adding a new column:\n",
      "  TextColumn\n",
      "0      apple\n",
      "1     banana\n",
      "2     orange\n",
      "\n",
      "DataFrame after adding a new column:\n",
      "  TextColumn  StringLength\n",
      "0      apple             5\n",
      "1     banana             6\n",
      "2     orange             6\n"
     ]
    }
   ],
   "source": [
    "data = {'TextColumn': ['apple', 'banana', 'orange']}\n",
    "df = pd.DataFrame(data)\n",
    "\n",
    "# Display the DataFrame before adding a new column\n",
    "print(\"DataFrame before adding a new column:\")\n",
    "print(df)\n",
    "\n",
    "# Create a new column 'StringLength' based on the length of strings in 'TextColumn'\n",
    "df['StringLength'] = df['TextColumn'].apply(len)\n",
    "\n",
    "# Display the DataFrame after adding a new column\n",
    "print(\"\\nDataFrame after adding a new column:\")\n",
    "print(df)\n"
   ]
  }
 ],
 "metadata": {
  "kernelspec": {
   "display_name": "hackz",
   "language": "python",
   "name": "python3"
  },
  "language_info": {
   "codemirror_mode": {
    "name": "ipython",
    "version": 3
   },
   "file_extension": ".py",
   "mimetype": "text/x-python",
   "name": "python",
   "nbconvert_exporter": "python",
   "pygments_lexer": "ipython3",
   "version": "3.11.5"
  }
 },
 "nbformat": 4,
 "nbformat_minor": 2
}
